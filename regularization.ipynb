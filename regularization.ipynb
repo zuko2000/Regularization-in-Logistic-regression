{
 "cells": [
  {
   "cell_type": "code",
   "execution_count": 1,
   "metadata": {},
   "outputs": [],
   "source": [
    "import numpy as np"
   ]
  },
  {
   "cell_type": "code",
   "execution_count": 2,
   "metadata": {},
   "outputs": [],
   "source": [
    "def sigmoid(z):\n",
    "    return 1/(1+np.exp(-z))"
   ]
  },
  {
   "cell_type": "markdown",
   "metadata": {},
   "source": [
    "#### L1 regularization"
   ]
  },
  {
   "cell_type": "code",
   "execution_count": 5,
   "metadata": {},
   "outputs": [],
   "source": [
    "def compute_costL1(X,y,theta,lambda_reg):\n",
    "    m = len(y)\n",
    "    predictions = sigmoid(X.dot(theta))\n",
    "    cost = -(1/m)*(y.T.dot(np.log(predictions))+(1-y).T.dot(np.log(1-predictions)))\n",
    "    reg_term = (lambda_reg/m)*np.sum(np.abs(theta[1:])) # exclude the first parameter,bias\n",
    "    return cost + reg_term"
   ]
  },
  {
   "cell_type": "code",
   "execution_count": null,
   "metadata": {},
   "outputs": [],
   "source": [
    "def gradient_descentL1(X,y,theta,learning_rate,lambda_reg,num_iters):\n",
    "    m = len(y)\n",
    "    cost_history = []\n",
    "    \n",
    "    for i in range(num_iters):\n",
    "        predictions = sigmoid(X.dot(theta))\n",
    "        error = predictions - y\n",
    "        gradient = (1/m)*(X.T.dot(error))\n",
    "        # Apply L1 regularization to gradient (excluding the first parameter, bias)\n",
    "        theta[1:]-=learning_rate*(lambda_reg/m)*np.sign(theta[1:])\n",
    "        \n",
    "        theta -= learning_rate * gradient\n",
    "        cost = compute_costL1(X,y,theta,lambda_reg)\n",
    "        cost_history.append(cost)\n",
    "        return theta,cost_history"
   ]
  },
  {
   "cell_type": "markdown",
   "metadata": {},
   "source": [
    "#### L2 regularization"
   ]
  },
  {
   "cell_type": "code",
   "execution_count": null,
   "metadata": {},
   "outputs": [],
   "source": [
    "def compute_costL2(X,y,theta,lambda_reg):\n",
    "    m = len(y)\n",
    "    predictions = sigmoid(X.dot(theta))\n",
    "    cost = (-1/m) * (y.T.dot(np.log(predictions))+(1-y).T.dot(np.log(1-predictions)))\n",
    "    reg_term = (lambda_reg / (2*m)) * (np.sum(np.square(theta[1:])))\n",
    "    return cost + reg_term"
   ]
  },
  {
   "cell_type": "code",
   "execution_count": null,
   "metadata": {},
   "outputs": [],
   "source": [
    "def gradient_descentL2(X,y,theta,learning_rate,lambda_reg,num_iters):\n",
    "    m = len(y)\n",
    "    cost_history = []\n",
    "    \n",
    "    for i in range(num_iters):\n",
    "        predictions = sigmoid(X.T.dot(theta))\n",
    "        error = predictions - y\n",
    "        gradient = (1/m) * (X.T.dot(error))\n",
    "        # L2 regularization excluding the first parameter,bias\n",
    "        gradient[1:] += (lambda_reg/m)*theta[1:]\n",
    "        theta -= learning_rate * gradient\n",
    "        cost = compute_costL2(X,y,theta,lambda_reg)\n",
    "        cost_history.append(cost)\n",
    "        \n",
    "    return theta, cost_history"
   ]
  }
 ],
 "metadata": {
  "kernelspec": {
   "display_name": "ML",
   "language": "python",
   "name": "python3"
  },
  "language_info": {
   "codemirror_mode": {
    "name": "ipython",
    "version": 3
   },
   "file_extension": ".py",
   "mimetype": "text/x-python",
   "name": "python",
   "nbconvert_exporter": "python",
   "pygments_lexer": "ipython3",
   "version": "3.11.9"
  }
 },
 "nbformat": 4,
 "nbformat_minor": 2
}
